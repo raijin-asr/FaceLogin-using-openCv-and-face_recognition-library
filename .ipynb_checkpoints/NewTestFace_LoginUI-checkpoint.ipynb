{
 "cells": [
  {
   "cell_type": "code",
   "execution_count": 3,
   "metadata": {},
   "outputs": [
    {
     "name": "stdout",
     "output_type": "stream",
     "text": [
      "\n",
      "image 1/1 D:\\PROJECTS\\Python\\Face Login using OpenCV\\abc.jpg: 384x640 1 face, 57.1ms\n",
      "Speed: 0.0ms preprocess, 57.1ms inference, 0.0ms postprocess per image at shape (1, 3, 384, 640)\n",
      "Results saved to \u001b[1mface_results\\predict\u001b[0m\n"
     ]
    }
   ],
   "source": [
    "#Test\n",
    "from ultralytics import YOLO\n",
    "import os  # Import the os module\n",
    "\n",
    "# Get the directory where the code is executed\n",
    "current_dir = os.getcwd()\n",
    "\n",
    "# Load a model\n",
    "model = YOLO(\"yolov8n-face.pt\")  # Load the YOLOv8n model\n",
    "\n",
    "detect_results = model.predict(source=\"abc.jpg\", save=True,imgsz=640, conf=0.25,project= r\"face_results\") "
   ]
  },
  {
   "cell_type": "code",
   "execution_count": null,
   "metadata": {},
   "outputs": [],
   "source": [
    "#Face Detection in Video\n",
    "\n",
    "import cv2\n",
    "from ultralytics import YOLO\n",
    "\n",
    "# Load YOLOv8 model for face detection\n",
    "model = YOLO(\"yolov8n-face.pt\")\n",
    "\n",
    "\n",
    "classLabels= []\n",
    "file_name='Labels.txt'\n",
    "with open(file_name,'rt') as fpt:\n",
    "    classLabels= fpt.read().rstrip('\\n').split('\\n')\n",
    "\n",
    "# video_path = \"lambo2face.mp4\"\n",
    "\n",
    "# # Create VideoCapture object for uploaded video\n",
    "# cap = cv2.VideoCapture(video_path)\n",
    "\n",
    "# # Create VideoCapture object for webcam\n",
    "cap = cv2.VideoCapture(0)\n",
    "\n",
    "# Check if video opened correctly or not\n",
    "if not cap.isOpened():\n",
    "    raise IOError(\"Cannot open Video\") # replace with webcam for webcam detection\n",
    "\n",
    "font_scale = 3\n",
    "font = cv2.FONT_HERSHEY_PLAIN\n",
    "\n",
    "while True:\n",
    "    ret, frame = cap.read()\n",
    "\n",
    "    # Check if frame is available\n",
    "    if not ret:\n",
    "        break\n",
    "\n",
    "    # Perform face detection with YOLOv8-face\n",
    "    face_result = model.predict(frame, conf=0.35)\n",
    "\n",
    "    for info in face_result:\n",
    "        parameters = info.boxes\n",
    "        for box in parameters:\n",
    "            x1, y1, x2, y2 = box.xyxy[0]\n",
    "            x1, y1, x2, y2 = int(x1), int(y1), int(x2), int(y2)\n",
    "            h, w = y2 - y1, x2 - x1\n",
    "            cv2.rectangle(frame, (x1, y1), (x2, y2), (255, 0, 0), 2)\n",
    "            cv2.putText(frame, classLabels[0], (x1 + 10, y1 + 40), font, fontScale=font_scale, color=(0, 255, 0), thickness=2)\n",
    "\n",
    "    # Resize the frame to the desired width and height\n",
    "    frame = cv2.resize(frame, (1000, 600))\n",
    "    cv2.imshow(\"Face Detection in Video\", frame)\n",
    "\n",
    "    if cv2.waitKey(1) & 0xFF == ord('q'):\n",
    "        break\n",
    "\n",
    "cap.release()\n",
    "cv2.destroyAllWindows()\n"
   ]
  },
  {
   "cell_type": "code",
   "execution_count": 36,
   "metadata": {},
   "outputs": [
    {
     "name": "stdout",
     "output_type": "stream",
     "text": [
      "D:\\PROJECTS\\Python\\Face Login using OpenCV\n"
     ]
    }
   ],
   "source": [
    "from IPython.display import Image, display\n",
    "import IPython.display as display\n",
    "import os\n",
    "\n",
    "# Get the directory where the code is executed\n",
    "current_dir = os.getcwd()\n",
    "print(current_dir)\n",
    "\n",
    "# print(current_dir + r\"/face_results/train\")"
   ]
  },
  {
   "cell_type": "markdown",
   "metadata": {},
   "source": [
    "# Training"
   ]
  },
  {
   "cell_type": "code",
   "execution_count": 10,
   "metadata": {
    "editable": true,
    "slideshow": {
     "slide_type": ""
    },
    "tags": []
   },
   "outputs": [
    {
     "name": "stdout",
     "output_type": "stream",
     "text": [
      "New https://pypi.org/project/ultralytics/8.2.11 available  Update with 'pip install -U ultralytics'\n",
      "Ultralytics YOLOv8.2.8  Python-3.12.3 torch-2.3.0+cpu CPU (12th Gen Intel Core(TM) i5-12450H)\n",
      "\u001b[34m\u001b[1mengine\\trainer: \u001b[0mtask=detect, mode=train, model=yolov8n-face.pt, data=config.yaml, epochs=1, time=None, patience=100, batch=16, imgsz=640, save=True, save_period=-1, cache=False, device=None, workers=8, project=face_results, name=train, exist_ok=False, pretrained=True, optimizer=auto, verbose=True, seed=0, deterministic=True, single_cls=False, rect=False, cos_lr=False, close_mosaic=10, resume=False, amp=True, fraction=1.0, profile=False, freeze=None, multi_scale=False, overlap_mask=True, mask_ratio=4, dropout=0.0, val=True, split=val, save_json=False, save_hybrid=False, conf=None, iou=0.7, max_det=300, half=False, dnn=False, plots=True, source=None, vid_stride=1, stream_buffer=False, visualize=False, augment=False, agnostic_nms=False, classes=None, retina_masks=False, embed=None, show=False, save_frames=False, save_txt=False, save_conf=False, save_crop=False, show_labels=True, show_conf=True, show_boxes=True, line_width=None, format=torchscript, keras=False, optimize=False, int8=False, dynamic=False, simplify=False, opset=None, workspace=4, nms=False, lr0=0.01, lrf=0.01, momentum=0.937, weight_decay=0.0005, warmup_epochs=3.0, warmup_momentum=0.8, warmup_bias_lr=0.1, box=7.5, cls=0.5, dfl=1.5, pose=12.0, kobj=1.0, label_smoothing=0.0, nbs=64, hsv_h=0.015, hsv_s=0.7, hsv_v=0.4, degrees=0.0, translate=0.1, scale=0.5, shear=0.0, perspective=0.0, flipud=0.0, fliplr=0.5, bgr=0.0, mosaic=1.0, mixup=0.0, copy_paste=0.0, auto_augment=randaugment, erasing=0.4, crop_fraction=1.0, cfg=None, tracker=botsort.yaml, save_dir=face_results\\train\n",
      "Overriding model.yaml nc=1 with nc=3\n",
      "\n",
      "                   from  n    params  module                                       arguments                     \n",
      "  0                  -1  1       464  ultralytics.nn.modules.conv.Conv             [3, 16, 3, 2]                 \n",
      "  1                  -1  1      4672  ultralytics.nn.modules.conv.Conv             [16, 32, 3, 2]                \n",
      "  2                  -1  1      7360  ultralytics.nn.modules.block.C2f             [32, 32, 1, True]             \n",
      "  3                  -1  1     18560  ultralytics.nn.modules.conv.Conv             [32, 64, 3, 2]                \n",
      "  4                  -1  2     49664  ultralytics.nn.modules.block.C2f             [64, 64, 2, True]             \n",
      "  5                  -1  1     73984  ultralytics.nn.modules.conv.Conv             [64, 128, 3, 2]               \n",
      "  6                  -1  2    197632  ultralytics.nn.modules.block.C2f             [128, 128, 2, True]           \n",
      "  7                  -1  1    295424  ultralytics.nn.modules.conv.Conv             [128, 256, 3, 2]              \n",
      "  8                  -1  1    460288  ultralytics.nn.modules.block.C2f             [256, 256, 1, True]           \n",
      "  9                  -1  1    164608  ultralytics.nn.modules.block.SPPF            [256, 256, 5]                 \n",
      " 10                  -1  1         0  torch.nn.modules.upsampling.Upsample         [None, 2, 'nearest']          \n",
      " 11             [-1, 6]  1         0  ultralytics.nn.modules.conv.Concat           [1]                           \n",
      " 12                  -1  1    148224  ultralytics.nn.modules.block.C2f             [384, 128, 1]                 \n",
      " 13                  -1  1         0  torch.nn.modules.upsampling.Upsample         [None, 2, 'nearest']          \n",
      " 14             [-1, 4]  1         0  ultralytics.nn.modules.conv.Concat           [1]                           \n",
      " 15                  -1  1     37248  ultralytics.nn.modules.block.C2f             [192, 64, 1]                  \n",
      " 16                  -1  1     36992  ultralytics.nn.modules.conv.Conv             [64, 64, 3, 2]                \n",
      " 17            [-1, 12]  1         0  ultralytics.nn.modules.conv.Concat           [1]                           \n",
      " 18                  -1  1    123648  ultralytics.nn.modules.block.C2f             [192, 128, 1]                 \n",
      " 19                  -1  1    147712  ultralytics.nn.modules.conv.Conv             [128, 128, 3, 2]              \n",
      " 20             [-1, 9]  1         0  ultralytics.nn.modules.conv.Concat           [1]                           \n",
      " 21                  -1  1    493056  ultralytics.nn.modules.block.C2f             [384, 256, 1]                 \n",
      " 22        [15, 18, 21]  1    751897  ultralytics.nn.modules.head.Detect           [3, [64, 128, 256]]           \n",
      "Model summary: 225 layers, 3011433 parameters, 3011417 gradients, 8.2 GFLOPs\n",
      "\n",
      "Transferred 349/355 items from pretrained weights\n",
      "Freezing layer 'model.22.dfl.conv.weight'\n"
     ]
    },
    {
     "name": "stderr",
     "output_type": "stream",
     "text": [
      "\u001b[34m\u001b[1mtrain: \u001b[0mScanning D:\\PROJECTS\\Python\\Face Login using OpenCV\\data\\known\\train\\\u001b[0m\n",
      "\u001b[34m\u001b[1mval: \u001b[0mScanning D:\\PROJECTS\\Python\\Face Login using OpenCV\\data\\known\\valid\\la\u001b[0m\n"
     ]
    },
    {
     "name": "stdout",
     "output_type": "stream",
     "text": [
      "Plotting labels to face_results\\train\\labels.jpg... \n",
      "\u001b[34m\u001b[1moptimizer:\u001b[0m 'optimizer=auto' found, ignoring 'lr0=0.01' and 'momentum=0.937' and determining best 'optimizer', 'lr0' and 'momentum' automatically... \n",
      "\u001b[34m\u001b[1moptimizer:\u001b[0m AdamW(lr=0.001429, momentum=0.9) with parameter groups 57 weight(decay=0.0), 64 weight(decay=0.0005), 63 bias(decay=0.0)\n",
      "Image sizes 640 train, 640 val\n",
      "Using 0 dataloader workers\n",
      "Logging results to \u001b[1mface_results\\train\u001b[0m\n",
      "Starting training for 1 epochs...\n",
      "\n",
      "      Epoch    GPU_mem   box_loss   cls_loss   dfl_loss  Instances       Size\n"
     ]
    },
    {
     "name": "stderr",
     "output_type": "stream",
     "text": [
      "        1/1         0G      2.484      3.713       2.26         19        64\n",
      "                 Class     Images  Instances      Box(P          R      mAP5\n"
     ]
    },
    {
     "name": "stdout",
     "output_type": "stream",
     "text": [
      "                   all         21         26     0.0347          1      0.308      0.133\n",
      "\n",
      "1 epochs completed in 0.018 hours.\n",
      "Optimizer stripped from face_results\\train\\weights\\last.pt, 6.2MB\n",
      "Optimizer stripped from face_results\\train\\weights\\best.pt, 6.2MB\n",
      "\n",
      "Validating face_results\\train\\weights\\best.pt...\n",
      "Ultralytics YOLOv8.2.8  Python-3.12.3 torch-2.3.0+cpu CPU (12th Gen Intel Core(TM) i5-12450H)\n",
      "Model summary (fused): 168 layers, 3006233 parameters, 0 gradients, 8.1 GFLOPs\n"
     ]
    },
    {
     "name": "stderr",
     "output_type": "stream",
     "text": [
      "                 Class     Images  Instances      Box(P          R      mAP5\n"
     ]
    },
    {
     "name": "stdout",
     "output_type": "stream",
     "text": [
      "                   all         21         26     0.0347          1      0.308      0.133\n",
      "                 ameer         21          6     0.0109          1      0.126     0.0295\n",
      "                 badri         21         13     0.0693          1      0.537      0.234\n",
      "               krishna         21          7     0.0239          1       0.26      0.135\n",
      "Speed: 2.3ms preprocess, 77.7ms inference, 0.0ms loss, 61.2ms postprocess per image\n",
      "Results saved to \u001b[1mface_results\\train\u001b[0m\n"
     ]
    }
   ],
   "source": [
    "from ultralytics import YOLO\n",
    "import os  # Import the os module\n",
    "\n",
    "# Get the directory where the code is executed\n",
    "current_dir = os.getcwd()\n",
    "\n",
    "# Load a model\n",
    "model = YOLO(\"yolov8n-face.pt\")  # Load the YOLOv8n model\n",
    "\n",
    "# Use the model\n",
    "train_result = model.train(data=\"config.yaml\", epochs=1, project=r\"face_results\")  # Train the model and save results to the specified directory\n"
   ]
  },
  {
   "cell_type": "code",
   "execution_count": 35,
   "metadata": {},
   "outputs": [
    {
     "ename": "AttributeError",
     "evalue": "type object 'Image' has no attribute 'open'",
     "output_type": "error",
     "traceback": [
      "\u001b[1;31m---------------------------------------------------------------------------\u001b[0m",
      "\u001b[1;31mAttributeError\u001b[0m                            Traceback (most recent call last)",
      "Cell \u001b[1;32mIn[35], line 6\u001b[0m\n\u001b[0;32m      1\u001b[0m \u001b[38;5;66;03m#Trained datasets-----\u001b[39;00m\n\u001b[0;32m      2\u001b[0m \n\u001b[0;32m      3\u001b[0m \u001b[38;5;66;03m# image_path= r\"D:/PROJECTS/Python/Face Login using OpenCV/face_results/train/confusion_matrix.jpg\"\u001b[39;00m\n\u001b[0;32m      4\u001b[0m \u001b[38;5;66;03m# display(Image(filename=image_path, width=640))\u001b[39;00m\n\u001b[1;32m----> 6\u001b[0m predicted_image \u001b[38;5;241m=\u001b[39m \u001b[43mImage\u001b[49m\u001b[38;5;241;43m.\u001b[39;49m\u001b[43mopen\u001b[49m(\u001b[38;5;124mr\u001b[39m\u001b[38;5;124m\"\u001b[39m\u001b[38;5;124mD:/PROJECTS/Python/Face Login using OpenCV/face_results/train/confusion_matrix.png\u001b[39m\u001b[38;5;124m\"\u001b[39m)\n\u001b[0;32m      7\u001b[0m display\u001b[38;5;241m.\u001b[39mdisplay(predicted_image)\n",
      "\u001b[1;31mAttributeError\u001b[0m: type object 'Image' has no attribute 'open'"
     ]
    }
   ],
   "source": [
    "#Trained datasets-----\n",
    "\n",
    "# image_path= r\"D:/PROJECTS/Python/Face Login using OpenCV/face_results/train/confusion_matrix.jpg\"\n",
    "# display(Image(filename=image_path, width=640))\n",
    "\n",
    "trained_image = Image.open(r\"D:/PROJECTS/Python/Face Login using OpenCV/face_results/train/confusion_matrix.png\")\n",
    "display.display(trained_image)"
   ]
  },
  {
   "cell_type": "code",
   "execution_count": null,
   "metadata": {},
   "outputs": [],
   "source": [
    "\n",
    "# image_path= r\"D:/PROJECTS/Python/Face Login using OpenCV/face_results/train/confusion_matrix.jpg\"\n",
    "# display(Image(filename=image_path, width=640))\n",
    "\n",
    "trained_image = Image.open(r\"D:/PROJECTS/Python/Face Login using OpenCV/face_results/train/results.png\")\n",
    "display.display(trained_image)"
   ]
  },
  {
   "cell_type": "code",
   "execution_count": null,
   "metadata": {},
   "outputs": [],
   "source": [
    "\n",
    "# image_path= r\"D:/PROJECTS/Python/Face Login using OpenCV/face_results/train/confusion_matrix.jpg\"\n",
    "# display(Image(filename=image_path, width=640))\n",
    "\n",
    "trained_image = Image.open(r\"D:/PROJECTS/Python/Face Login using OpenCV/face_results/train/train_batch0\")\n",
    "display.display(trained_image)"
   ]
  },
  {
   "cell_type": "markdown",
   "metadata": {},
   "source": [
    "# Validation"
   ]
  },
  {
   "cell_type": "code",
   "execution_count": 11,
   "metadata": {},
   "outputs": [
    {
     "name": "stdout",
     "output_type": "stream",
     "text": [
      "Ultralytics YOLOv8.2.8  Python-3.12.3 torch-2.3.0+cpu CPU (12th Gen Intel Core(TM) i5-12450H)\n",
      "Model summary (fused): 168 layers, 3006233 parameters, 0 gradients, 8.1 GFLOPs\n"
     ]
    },
    {
     "name": "stderr",
     "output_type": "stream",
     "text": [
      "\u001b[34m\u001b[1mval: \u001b[0mScanning D:\\PROJECTS\\Python\\Face Login using OpenCV\\data\\known\\valid\\la\u001b[0m\n",
      "                 Class     Images  Instances      Box(P          R      mAP5\n"
     ]
    },
    {
     "name": "stdout",
     "output_type": "stream",
     "text": [
      "                   all         21         26     0.0347          1      0.308      0.133\n",
      "                 ameer         21          6     0.0109          1      0.126     0.0295\n",
      "                 badri         21         13     0.0693          1      0.537      0.234\n",
      "               krishna         21          7     0.0239          1       0.26      0.135\n",
      "Speed: 3.3ms preprocess, 191.3ms inference, 0.0ms loss, 80.3ms postprocess per image\n",
      "Results saved to \u001b[1mface_results\\val\u001b[0m\n"
     ]
    }
   ],
   "source": [
    "model = YOLO(r'face_results/train/weights/best.pt')\n",
    "\n",
    "# Evaluate the model's performance on the validation set\n",
    "validation_results = model.val(data='config.yaml',project=r\"face_results\")"
   ]
  },
  {
   "cell_type": "code",
   "execution_count": null,
   "metadata": {},
   "outputs": [],
   "source": [
    "#validated images----\n",
    "\n",
    "# image_path= r\"D:/PROJECTS/Python/Face Login using OpenCV/face_results/val/val_batch1.jpg\"\n",
    "# display(Image(filename=image_path, width=640))\n",
    "\n",
    "predicted_image = Image.open(r\"D:/PROJECTS/Python/Face Login using OpenCV/face_results/val/val_batch1.jpg\")\n",
    "display.display(predicted_image)"
   ]
  },
  {
   "cell_type": "markdown",
   "metadata": {
    "editable": true,
    "slideshow": {
     "slide_type": ""
    },
    "tags": []
   },
   "source": [
    "# Prediction or Testing"
   ]
  },
  {
   "cell_type": "code",
   "execution_count": 15,
   "metadata": {
    "editable": true,
    "slideshow": {
     "slide_type": ""
    },
    "tags": []
   },
   "outputs": [
    {
     "name": "stdout",
     "output_type": "stream",
     "text": [
      "\u001b[31m\u001b[1mrequirements:\u001b[0m Ultralytics requirement ['lapx>=0.5.2'] not found, attempting AutoUpdate...\n",
      "Collecting lapx>=0.5.2\n",
      "  Downloading lapx-0.5.8-cp312-cp312-win_amd64.whl.metadata (6.5 kB)\n",
      "Collecting Cython>=0.29.32 (from lapx>=0.5.2)\n",
      "  Downloading Cython-3.0.10-cp312-cp312-win_amd64.whl.metadata (3.2 kB)\n",
      "Requirement already satisfied: numpy>=1.21.6 in d:\\projects\\python\\face login using opencv\\faceenv\\lib\\site-packages (from lapx>=0.5.2) (1.26.4)\n",
      "Downloading lapx-0.5.8-cp312-cp312-win_amd64.whl (1.5 MB)\n",
      "   ---------------------------------------- 1.5/1.5 MB 4.1 MB/s eta 0:00:0002\n",
      "Downloading Cython-3.0.10-cp312-cp312-win_amd64.whl (2.8 MB)\n",
      "   ---------------------------------------- 2.8/2.8 MB 16.2 MB/s eta 0:00:00\n",
      "Installing collected packages: Cython, lapx\n",
      "Successfully installed Cython-3.0.10 lapx-0.5.8\n",
      "\n",
      "\u001b[31m\u001b[1mrequirements:\u001b[0m AutoUpdate success  9.4s, installed 1 package: ['lapx>=0.5.2']\n",
      "\u001b[31m\u001b[1mrequirements:\u001b[0m  \u001b[1mRestart runtime or rerun command for updates to take effect\u001b[0m\n",
      "\n",
      "\n",
      "image 1/1 D:\\PROJECTS\\Python\\Face Login using OpenCV\\data\\known\\test\\images\\13_jpg.rf.1a42c17b775671d7d4f37c55d2048762.jpg: 640x640 (no detections), 746.4ms\n",
      "Speed: 2.2ms preprocess, 746.4ms inference, 0.0ms postprocess per image at shape (1, 3, 640, 640)\n",
      "Results saved to \u001b[1mface_results\\track\u001b[0m\n"
     ]
    }
   ],
   "source": [
    "#Prediction on test images\n",
    "\n",
    "model = YOLO(r'face_results/train/weights/best.pt')\n",
    "\n",
    "# one_results = model.predict(source=r\"data/known/test/images\", save=True,imgsz=640, conf=0.25,project= r\"face_results\") \n",
    "\n",
    "# model = YOLO(\"yolov8n-face.pt\")  # Load the YOLOv8n model\n",
    "# # detect_results = model.predict(source=\"data/known/test/images/13_jpg.rf.1a42c17b775671d7d4f37c55d2048762.jpg\", save=True,imgsz=640, conf=0.25,project= r\"face_results\") \n",
    "\n",
    "#track\n",
    "detect_results = model.predict(source=\"data/known/test/images/13_jpg.rf.1a42c17b775671d7d4f37c55d2048762.jpg\", save=True,imgsz=640, conf=0.25,project= r\"face_results\") "
   ]
  },
  {
   "cell_type": "code",
   "execution_count": null,
   "metadata": {},
   "outputs": [],
   "source": [
    "#showing prediction on test images\n",
    "import glob\n",
    "from IPython.display import Image, display\n",
    "\n",
    "for image_path in glob.glob(f'{current_dir}/predict/*.jpg')[:3]:\n",
    "      display(Image(filename=image_path, width=640))\n",
    "      print(\"\\n\")"
   ]
  },
  {
   "cell_type": "code",
   "execution_count": 34,
   "metadata": {},
   "outputs": [
    {
     "ename": "AttributeError",
     "evalue": "type object 'Image' has no attribute 'open'",
     "output_type": "error",
     "traceback": [
      "\u001b[1;31m---------------------------------------------------------------------------\u001b[0m",
      "\u001b[1;31mAttributeError\u001b[0m                            Traceback (most recent call last)",
      "Cell \u001b[1;32mIn[34], line 8\u001b[0m\n\u001b[0;32m      2\u001b[0m \u001b[38;5;28;01mimport\u001b[39;00m \u001b[38;5;21;01mIPython\u001b[39;00m\u001b[38;5;21;01m.\u001b[39;00m\u001b[38;5;21;01mdisplay\u001b[39;00m \u001b[38;5;28;01mas\u001b[39;00m \u001b[38;5;21;01mdisplay\u001b[39;00m\n\u001b[0;32m      5\u001b[0m \u001b[38;5;66;03m# image_path= r\"D:/PROJECTS/Python/Face Login using OpenCV/face_results/train/confusion_matrix.jpg\"\u001b[39;00m\n\u001b[0;32m      6\u001b[0m \u001b[38;5;66;03m# display(Image(filename=image_path, width=640))\u001b[39;00m\n\u001b[1;32m----> 8\u001b[0m predicted_image \u001b[38;5;241m=\u001b[39m \u001b[43mImage\u001b[49m\u001b[38;5;241;43m.\u001b[39;49m\u001b[43mopen\u001b[49m(\u001b[38;5;124mr\u001b[39m\u001b[38;5;124m\"\u001b[39m\u001b[38;5;124mD:/PROJECTS/Python/Face Login using OpenCV/face_results/train/confusion_matrix.jpg\u001b[39m\u001b[38;5;124m\"\u001b[39m)\n\u001b[0;32m      9\u001b[0m display\u001b[38;5;241m.\u001b[39mdisplay(predicted_image)\n",
      "\u001b[1;31mAttributeError\u001b[0m: type object 'Image' has no attribute 'open'"
     ]
    }
   ],
   "source": [
    "#predicted image---\n",
    "\n",
    "# image_path= r\"D:/PROJECTS/Python/Face Login using OpenCV/face_results/train/confusion_matrix.jpg\"\n",
    "# display(Image(filename=image_path, width=640))\n",
    "\n",
    "predicted_image = Image.open(r\"D:/PROJECTS/Python/Face Login using OpenCV/face_results/train/confusion_matrix.jpg\")\n",
    "display.display(predicted_image)"
   ]
  },
  {
   "cell_type": "markdown",
   "metadata": {},
   "source": [
    "# Use Interface"
   ]
  },
  {
   "cell_type": "code",
   "execution_count": 3,
   "metadata": {},
   "outputs": [
    {
     "data": {
      "application/vnd.jupyter.widget-view+json": {
       "model_id": "e8fd6fabbcdf4ab6b96fe7dd3db714a5",
       "version_major": 2,
       "version_minor": 0
      },
      "text/plain": [
       "VBox(children=(HTML(value='<h3>Welcome to Login Panel</h3>'), HBox(children=(Label(value='Username:'), Text(va…"
      ]
     },
     "metadata": {},
     "output_type": "display_data"
    },
    {
     "data": {
      "application/vnd.jupyter.widget-view+json": {
       "model_id": "8a637c83a59b4226822be828257763a5",
       "version_major": 2,
       "version_minor": 0
      },
      "text/plain": [
       "VBox(children=(Tab(children=(VBox(children=(HTML(value=\"<h2><span style='font-size: 24px;'>&#x1F64F;</span> We…"
      ]
     },
     "metadata": {},
     "output_type": "display_data"
    }
   ],
   "source": [
    "import ipywidgets as widgets\n",
    "from IPython.display import display, clear_output, Image, HTML, Javascript\n",
    "import cv2\n",
    "import matplotlib.pyplot as plt\n",
    "import io\n",
    "import base64\n",
    "import time\n",
    "import os\n",
    "import face_recognition\n",
    "import dlib\n",
    "import webbrowser\n",
    "import subprocess\n",
    "from ultralytics import YOLO\n",
    "\n",
    "\n",
    "# HOME SECTION--------------------------------\n",
    "# Create label for Home\n",
    "home_label = widgets.HTML(value=\"<h2><span style='font-size: 24px;'>&#x1F64F;</span> Welcome to Home Section!!! <span style='font-size: 24px;'>&#x1F64F;</span></h2>\")\n",
    "\n",
    "                          \n",
    "# Define a container for the logout button\n",
    "home_content = widgets.VBox([home_label])\n",
    "\n",
    "\n",
    "\n",
    "# LOGOUT SECTION--------------------------------\n",
    "# Create label for Logout\n",
    "logout_label = widgets.HTML(value=\"<h2><span style='font-size: 24px;'>&#x1F44B;</span> See You Again!!! <span style='font-size: 24px;'>&#x1F44B;</span></h2>\")\n",
    "\n",
    "# Create button to logout\n",
    "logout_button = widgets.Button(\n",
    "    description=\"Logout\",\n",
    "    button_style='danger',\n",
    "    tooltip='Logout',\n",
    "    icon='sign-out' # (FontAwesome names without the `fa-` prefix)\n",
    ")\n",
    "\n",
    "# Function to logout\n",
    "def logout_function(b):\n",
    "    \n",
    "    # Clear username and password text boxes\n",
    "    username_textbox.value = ''\n",
    "    password_textbox.value = ''\n",
    "    \n",
    " \n",
    "    # Clear login status output\n",
    "    with login_status_output:\n",
    "        clear_output()\n",
    "\n",
    "    # Show the login tab and hide other tabs\n",
    "    login_ui.layout.display = 'block'\n",
    "    tabs_container.layout.display = 'none'\n",
    "\n",
    "    # Show the image tab and hide other tabs\n",
    "    tabs_container.selected_index = 0  # Index of the first tab in the tabs container\n",
    "    \n",
    "# Attach event handlers to the buttons\n",
    "logout_button.on_click(logout_function)\n",
    "\n",
    "# Define a container for the logout button\n",
    "logout_content = widgets.VBox([logout_label,logout_button])\n",
    "\n",
    "\n",
    "# Function to authenticate login++++++++++++++++++++++++++++++++\n",
    "def authenticate_login(username, password):\n",
    "    # Replace this with your actual login authentication logic\n",
    "    if username == \"admin\" and password == \"admin\":\n",
    "        return True\n",
    "    else:\n",
    "        return False\n",
    "\n",
    "# Username and password text boxes\n",
    "username_textbox = widgets.Text(placeholder=\"Enter username\")\n",
    "password_textbox = widgets.Password(placeholder=\"Enter password\")\n",
    "\n",
    "# Login button\n",
    "login_button = widgets.Button(description=\"Login\", button_style=\"success\")\n",
    "\n",
    "# Output widget for displaying login status\n",
    "login_status_output = widgets.Output()\n",
    "\n",
    "# Function to handle login button click\n",
    "def handle_login_button_click(b):\n",
    "    with login_status_output:\n",
    "        clear_output()\n",
    "        username = username_textbox.value.strip()\n",
    "        password = password_textbox.value.strip()\n",
    "        \n",
    "        if authenticate_login(username, password):\n",
    "            print(\"Login successful! 😀\")\n",
    "            time.sleep(3)\n",
    "           \n",
    "            # Show other tabs and hide the login tab \n",
    "            login_ui.layout.display = 'none'\n",
    "            tabs_container.layout.display = 'block'\n",
    "\n",
    "            # Show the image tab and hide other tabs\n",
    "            tabs_container.selected_index = 0  # Index of the first tab in the tabs container\n",
    "            \n",
    "        else:\n",
    "            print(\"Invalid username or password. Please try again.\")\n",
    "\n",
    "# Attach event handler to the login button\n",
    "login_button.on_click(handle_login_button_click)\n",
    "\n",
    "\n",
    "# FACE Login using YOLO*****************\n",
    "\n",
    "train_folder = \"data/known/train/images/\"\n",
    "val_folder = \"data/known/valid/images/\"\n",
    "test_folder = \"data/known/test/images/\"\n",
    "classes = [\"ameer\", \"badri\", \"krishna\"]\n",
    "\n",
    "def load_encodings_from_folders(train_folder, val_folder, test_folder, classes):\n",
    "    encodings = {class_name: {} for class_name in classes}\n",
    "    \n",
    "    # Load encodings from train folder\n",
    "    for class_name in classes:\n",
    "        class_train_folder = os.path.join(train_folder, class_name)\n",
    "        class_train_encodings = load_encodings_from_folder(class_train_folder)\n",
    "        encodings[class_name].update(class_train_encodings)\n",
    "    \n",
    "    # Load encodings from val folder\n",
    "    for class_name in classes:\n",
    "        class_val_folder = os.path.join(val_folder, class_name)\n",
    "        class_val_encodings = load_encodings_from_folder(class_val_folder)\n",
    "        encodings[class_name].update(class_val_encodings)\n",
    "    \n",
    "    # Load encodings from test folder\n",
    "    for class_name in classes:\n",
    "        class_test_folder = os.path.join(test_folder, class_name)\n",
    "        class_test_encodings = load_encodings_from_folder(class_test_folder)\n",
    "        encodings[class_name].update(class_test_encodings)\n",
    "    \n",
    "    return encodings\n",
    "\n",
    "def load_encodings_from_folder(folder_path):\n",
    "    encodings = {}\n",
    "    for filename in os.listdir(folder_path):\n",
    "        name, ext = os.path.splitext(filename)\n",
    "        if ext.lower() in ['.jpg', '.png', '.jpeg']:\n",
    "            image_path = os.path.join(folder_path, filename)\n",
    "            img = cv2.imread(image_path)\n",
    "            face_encodings = face_recognition.face_encodings(img)\n",
    "            if face_encodings:\n",
    "                encodings[name] = face_encodings[0]  # Assuming only one face per image\n",
    "    return encodings\n",
    "\n",
    "def handle_face_login_button_click(b):\n",
    "    # Load YOLOv8 model for face detection\n",
    "    yolo_model = YOLO(r'results/train/weights/best.pt')\n",
    "\n",
    "    # Load Camera\n",
    "    cap = cv2.VideoCapture(0)  # Use 0 for default webcam, or adjust as needed\n",
    "    \n",
    "    start_time = None\n",
    "    login_successful = False\n",
    "    welcome_displayed = False\n",
    "    welcome_start_time = None\n",
    "\n",
    "    # Load known face encodings (you need to prepare this in advance)\n",
    "    known_encodings = load_encodings_from_folders(train_folder, val_folder, test_folder, classes)\n",
    "    \n",
    "    # Initialize face detector and predictor\n",
    "    detector = dlib.get_frontal_face_detector()\n",
    "\n",
    "    while True:\n",
    "        ret, frame = cap.read()\n",
    "    \n",
    "        # Use YOLOv8 for face detection\n",
    "        detections = yolo_model(frame)\n",
    "        detected_faces = detections.pred\n",
    "        \n",
    "        # List to store matching names\n",
    "        matching_names = []\n",
    "        found_name = \"Unknown\"\n",
    "    \n",
    "        # First scan all faces\n",
    "        for detection in detected_faces:\n",
    "            # Get the bounding box coordinates\n",
    "            x1, y1, x2, y2 = detection.xyxy[0]\n",
    "    \n",
    "            # Crop the detected face from the frame\n",
    "            face_img = frame[y1:y2, x1:x2]\n",
    "    \n",
    "            # Check if the face image is not empty\n",
    "            if not face_img.size:\n",
    "                continue  # Skip this face if the image is empty\n",
    "    \n",
    "            # Encode the face using dlib's face recognition model\n",
    "            face_encodings = face_recognition.face_encodings(face_img)\n",
    "            \n",
    "            if face_encodings:\n",
    "                # Perform face matching with known encodings\n",
    "                for class_name, class_encodings in known_encodings.items():\n",
    "                    for name, known_encoding in class_encodings.items():\n",
    "                        # Compare face encodings\n",
    "                        match = face_recognition.compare_faces([known_encoding], face_encodings[0])\n",
    "                        if match[0]:\n",
    "                            found_name = name\n",
    "                            break\n",
    "                    if found_name != \"Unknown\":\n",
    "                        break\n",
    "    \n",
    "                # Draw rectangle and label on the frame\n",
    "                cv2.rectangle(frame, (x1, y1), (x2, y2), (0, 255, 0), 2)\n",
    "                cv2.putText(frame, found_name, (x1, y1 - 10), cv2.FONT_HERSHEY_SIMPLEX, 0.8, (0, 255, 0), 2)\n",
    "    \n",
    "        # After scanning, proceed if there is a matching face and only one face in the frame\n",
    "        if len(detected_faces) == 1 and found_name != \"Unknown\":\n",
    "            if start_time is None:\n",
    "                start_time = time.time()\n",
    "            elif time.time() - start_time >= 3:  # Show \"Login Successful\" after 3 seconds\n",
    "                login_successful = True\n",
    "        else:\n",
    "            # Reset start time if multiple faces detected or no matching face found\n",
    "            start_time = None\n",
    "            login_successful = False\n",
    "    \n",
    "        # Display \"Login Successful\" message after 3 seconds and redirect to website if conditions are met\n",
    "        if login_successful and not welcome_displayed:\n",
    "            cv2.putText(frame, \"Login Successful!!!\", (50, 50), cv2.FONT_HERSHEY_SIMPLEX, 1, (0, 255, 0), 2)\n",
    "            if time.time() - start_time >= 10: #show welcome message\n",
    "                welcome_displayed = True\n",
    "                welcome_start_time = time.time()\n",
    "        if welcome_displayed:\n",
    "            # Display \"Welcome\" message for 5 seconds\n",
    "            cv2.putText(frame, f\"Welcome, {found_name}!\", (50, 100), cv2.FONT_HERSHEY_SIMPLEX, 1, (0, 255, 0), 2)\n",
    "            if time.time() - welcome_start_time >= 5:\n",
    "                # Show other tabs and hide the login tab \n",
    "                login_ui.layout.display = 'none'\n",
    "                tabs_container.layout.display = 'block'\n",
    "                break\n",
    "    \n",
    "        # Display the frame\n",
    "        cv2.imshow(\"Face Login through Webcam\", frame)\n",
    "    \n",
    "        # Break the loop on pressing 'q'\n",
    "        if cv2.waitKey(1) & 0xFF == ord('q'):\n",
    "            break\n",
    "    \n",
    "    # Release the video capture object and destroy windows\n",
    "    cap.release()\n",
    "    cv2.destroyAllWindows()\n",
    "\n",
    "\n",
    "\n",
    "face_login_button = widgets.Button(description=\"\", button_style=\"primary\", icon=\"fingerprint\")\n",
    "face_login_button.layout.width = '50px'\n",
    "face_login_button.layout.height = '28px'\n",
    "\n",
    "# Attach event handler to the FACE login button\n",
    "face_login_button.on_click(handle_face_login_button_click)\n",
    "\n",
    "\n",
    "# Arrange widgets in a VBox layout\n",
    "login_ui = widgets.VBox([\n",
    "    widgets.HTML(value=\"<h3>Welcome to Login Panel</h3>\"),\n",
    "    widgets.HBox([widgets.Label(value=\"Username:\"), username_textbox]),\n",
    "    widgets.HBox([widgets.Label(value=\"Password :\"), password_textbox]),\n",
    "    widgets.HBox([login_button,face_login_button]),\n",
    "    login_status_output\n",
    "])\n",
    "\n",
    "\n",
    "# Create tabs for image, video, and webcam-------------------+++++++++++++\n",
    "tab_contents = ['Home','Logout']\n",
    "tabs = widgets.Tab()\n",
    "tabs.children = [home_content,logout_content]\n",
    "for i, tab_name in enumerate(tab_contents):\n",
    "    tabs.set_title(i, tab_name)\n",
    "\n",
    "\n",
    "# Set height of the entire tab widget\n",
    "tabs_container = widgets.VBox([tabs], layout={'height': '1000px'})\n",
    "\n",
    "# Display the login UI\n",
    "display(login_ui)\n",
    "\n",
    "# Display the tabs\n",
    "display(tabs_container)\n",
    "\n",
    "# Initially, only show the login tab\n",
    "tabs_container.layout.display = 'none'"
   ]
  }
 ],
 "metadata": {
  "kernelspec": {
   "display_name": "Python 3 (ipykernel)",
   "language": "python",
   "name": "python3"
  },
  "language_info": {
   "codemirror_mode": {
    "name": "ipython",
    "version": 3
   },
   "file_extension": ".py",
   "mimetype": "text/x-python",
   "name": "python",
   "nbconvert_exporter": "python",
   "pygments_lexer": "ipython3",
   "version": "3.12.3"
  }
 },
 "nbformat": 4,
 "nbformat_minor": 4
}
