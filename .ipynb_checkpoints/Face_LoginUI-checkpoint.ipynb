{
 "cells": [
  {
   "cell_type": "markdown",
   "metadata": {},
   "source": [
    "# Training"
   ]
  },
  {
   "cell_type": "code",
   "execution_count": 2,
   "metadata": {
    "editable": true,
    "slideshow": {
     "slide_type": ""
    },
    "tags": []
   },
   "outputs": [
    {
     "name": "stdout",
     "output_type": "stream",
     "text": [
      "Ultralytics YOLOv8.2.8  Python-3.12.3 torch-2.3.0+cpu CPU (12th Gen Intel Core(TM) i5-12450H)\n",
      "\u001b[34m\u001b[1mengine\\trainer: \u001b[0mtask=detect, mode=train, model=yolov8n.pt, data=config.yaml, epochs=5, time=None, patience=100, batch=16, imgsz=640, save=True, save_period=-1, cache=False, device=None, workers=8, project=D:\\PROJECTS\\Python\\Face Login using OpenCV, name=train3, exist_ok=False, pretrained=True, optimizer=auto, verbose=True, seed=0, deterministic=True, single_cls=False, rect=False, cos_lr=False, close_mosaic=10, resume=False, amp=True, fraction=1.0, profile=False, freeze=None, multi_scale=False, overlap_mask=True, mask_ratio=4, dropout=0.0, val=True, split=val, save_json=False, save_hybrid=False, conf=None, iou=0.7, max_det=300, half=False, dnn=False, plots=True, source=None, vid_stride=1, stream_buffer=False, visualize=False, augment=False, agnostic_nms=False, classes=None, retina_masks=False, embed=None, show=False, save_frames=False, save_txt=False, save_conf=False, save_crop=False, show_labels=True, show_conf=True, show_boxes=True, line_width=None, format=torchscript, keras=False, optimize=False, int8=False, dynamic=False, simplify=False, opset=None, workspace=4, nms=False, lr0=0.01, lrf=0.01, momentum=0.937, weight_decay=0.0005, warmup_epochs=3.0, warmup_momentum=0.8, warmup_bias_lr=0.1, box=7.5, cls=0.5, dfl=1.5, pose=12.0, kobj=1.0, label_smoothing=0.0, nbs=64, hsv_h=0.015, hsv_s=0.7, hsv_v=0.4, degrees=0.0, translate=0.1, scale=0.5, shear=0.0, perspective=0.0, flipud=0.0, fliplr=0.5, bgr=0.0, mosaic=1.0, mixup=0.0, copy_paste=0.0, auto_augment=randaugment, erasing=0.4, crop_fraction=1.0, cfg=None, tracker=botsort.yaml, save_dir=D:\\PROJECTS\\Python\\Face Login using OpenCV\\train3\n",
      "Overriding model.yaml nc=80 with nc=3\n",
      "\n",
      "                   from  n    params  module                                       arguments                     \n",
      "  0                  -1  1       464  ultralytics.nn.modules.conv.Conv             [3, 16, 3, 2]                 \n",
      "  1                  -1  1      4672  ultralytics.nn.modules.conv.Conv             [16, 32, 3, 2]                \n",
      "  2                  -1  1      7360  ultralytics.nn.modules.block.C2f             [32, 32, 1, True]             \n",
      "  3                  -1  1     18560  ultralytics.nn.modules.conv.Conv             [32, 64, 3, 2]                \n",
      "  4                  -1  2     49664  ultralytics.nn.modules.block.C2f             [64, 64, 2, True]             \n",
      "  5                  -1  1     73984  ultralytics.nn.modules.conv.Conv             [64, 128, 3, 2]               \n",
      "  6                  -1  2    197632  ultralytics.nn.modules.block.C2f             [128, 128, 2, True]           \n",
      "  7                  -1  1    295424  ultralytics.nn.modules.conv.Conv             [128, 256, 3, 2]              \n",
      "  8                  -1  1    460288  ultralytics.nn.modules.block.C2f             [256, 256, 1, True]           \n",
      "  9                  -1  1    164608  ultralytics.nn.modules.block.SPPF            [256, 256, 5]                 \n",
      " 10                  -1  1         0  torch.nn.modules.upsampling.Upsample         [None, 2, 'nearest']          \n",
      " 11             [-1, 6]  1         0  ultralytics.nn.modules.conv.Concat           [1]                           \n",
      " 12                  -1  1    148224  ultralytics.nn.modules.block.C2f             [384, 128, 1]                 \n",
      " 13                  -1  1         0  torch.nn.modules.upsampling.Upsample         [None, 2, 'nearest']          \n",
      " 14             [-1, 4]  1         0  ultralytics.nn.modules.conv.Concat           [1]                           \n",
      " 15                  -1  1     37248  ultralytics.nn.modules.block.C2f             [192, 64, 1]                  \n",
      " 16                  -1  1     36992  ultralytics.nn.modules.conv.Conv             [64, 64, 3, 2]                \n",
      " 17            [-1, 12]  1         0  ultralytics.nn.modules.conv.Concat           [1]                           \n",
      " 18                  -1  1    123648  ultralytics.nn.modules.block.C2f             [192, 128, 1]                 \n",
      " 19                  -1  1    147712  ultralytics.nn.modules.conv.Conv             [128, 128, 3, 2]              \n",
      " 20             [-1, 9]  1         0  ultralytics.nn.modules.conv.Concat           [1]                           \n",
      " 21                  -1  1    493056  ultralytics.nn.modules.block.C2f             [384, 256, 1]                 \n",
      " 22        [15, 18, 21]  1    751897  ultralytics.nn.modules.head.Detect           [3, [64, 128, 256]]           \n",
      "Model summary: 225 layers, 3011433 parameters, 3011417 gradients, 8.2 GFLOPs\n",
      "\n",
      "Transferred 319/355 items from pretrained weights\n",
      "Freezing layer 'model.22.dfl.conv.weight'\n"
     ]
    },
    {
     "name": "stderr",
     "output_type": "stream",
     "text": [
      "\u001b[34m\u001b[1mtrain: \u001b[0mScanning D:\\PROJECTS\\Python\\Face Login using OpenCV\\data\\known\\train\\labels.cache... 216 images, 0 backgrounds, 0 corrupt: 100%|██████████| 216/216 [00:00<?, ?it/s]\u001b[0m\n",
      "\u001b[34m\u001b[1mval: \u001b[0mScanning D:\\PROJECTS\\Python\\Face Login using OpenCV\\data\\known\\valid\\labels.cache... 21 images, 0 backgrounds, 0 corrupt: 100%|██████████| 21/21 [00:00<?, ?it/s]\u001b[0m"
     ]
    },
    {
     "name": "stdout",
     "output_type": "stream",
     "text": [
      "Plotting labels to D:\\PROJECTS\\Python\\Face Login using OpenCV\\train3\\labels.jpg... \n"
     ]
    },
    {
     "name": "stderr",
     "output_type": "stream",
     "text": [
      "\n"
     ]
    },
    {
     "name": "stdout",
     "output_type": "stream",
     "text": [
      "\u001b[34m\u001b[1moptimizer:\u001b[0m 'optimizer=auto' found, ignoring 'lr0=0.01' and 'momentum=0.937' and determining best 'optimizer', 'lr0' and 'momentum' automatically... \n",
      "\u001b[34m\u001b[1moptimizer:\u001b[0m AdamW(lr=0.001429, momentum=0.9) with parameter groups 57 weight(decay=0.0), 64 weight(decay=0.0005), 63 bias(decay=0.0)\n",
      "Image sizes 640 train, 640 val\n",
      "Using 0 dataloader workers\n",
      "Logging results to \u001b[1mD:\\PROJECTS\\Python\\Face Login using OpenCV\\train3\u001b[0m\n",
      "Starting training for 5 epochs...\n",
      "\n",
      "      Epoch    GPU_mem   box_loss   cls_loss   dfl_loss  Instances       Size\n"
     ]
    },
    {
     "name": "stderr",
     "output_type": "stream",
     "text": [
      "        1/5         0G      1.625      3.435      1.704         19        640: 100%|██████████| 14/14 [05:15<00:00, 22.51s/it]\n",
      "                 Class     Images  Instances      Box(P          R      mAP50  mAP50-95): 100%|██████████| 1/1 [00:11<00:00, 11.81s/it]"
     ]
    },
    {
     "name": "stdout",
     "output_type": "stream",
     "text": [
      "                   all         21         26    0.00508          1      0.359      0.206\n"
     ]
    },
    {
     "name": "stderr",
     "output_type": "stream",
     "text": [
      "\n"
     ]
    },
    {
     "name": "stdout",
     "output_type": "stream",
     "text": [
      "\n",
      "      Epoch    GPU_mem   box_loss   cls_loss   dfl_loss  Instances       Size\n"
     ]
    },
    {
     "name": "stderr",
     "output_type": "stream",
     "text": [
      "        2/5         0G      1.459      2.546      1.494         23        640: 100%|██████████| 14/14 [05:20<00:00, 22.91s/it]\n",
      "                 Class     Images  Instances      Box(P          R      mAP50  mAP50-95): 100%|██████████| 1/1 [00:12<00:00, 12.84s/it]"
     ]
    },
    {
     "name": "stdout",
     "output_type": "stream",
     "text": [
      "                   all         21         26    0.00577          1      0.465       0.27\n"
     ]
    },
    {
     "name": "stderr",
     "output_type": "stream",
     "text": [
      "\n"
     ]
    },
    {
     "name": "stdout",
     "output_type": "stream",
     "text": [
      "\n",
      "      Epoch    GPU_mem   box_loss   cls_loss   dfl_loss  Instances       Size\n"
     ]
    },
    {
     "name": "stderr",
     "output_type": "stream",
     "text": [
      "        3/5         0G      1.388      2.264      1.428         22        640: 100%|██████████| 14/14 [05:29<00:00, 23.51s/it]\n",
      "                 Class     Images  Instances      Box(P          R      mAP50  mAP50-95): 100%|██████████| 1/1 [00:12<00:00, 12.61s/it]"
     ]
    },
    {
     "name": "stdout",
     "output_type": "stream",
     "text": [
      "                   all         21         26      0.868      0.205      0.555      0.349\n"
     ]
    },
    {
     "name": "stderr",
     "output_type": "stream",
     "text": [
      "\n"
     ]
    },
    {
     "name": "stdout",
     "output_type": "stream",
     "text": [
      "\n",
      "      Epoch    GPU_mem   box_loss   cls_loss   dfl_loss  Instances       Size\n"
     ]
    },
    {
     "name": "stderr",
     "output_type": "stream",
     "text": [
      "        4/5         0G      1.334      2.114      1.377         19        640: 100%|██████████| 14/14 [07:11<00:00, 30.82s/it]\n",
      "                 Class     Images  Instances      Box(P          R      mAP50  mAP50-95): 100%|██████████| 1/1 [00:12<00:00, 12.43s/it]"
     ]
    },
    {
     "name": "stdout",
     "output_type": "stream",
     "text": [
      "                   all         21         26        0.9      0.327       0.55      0.335\n"
     ]
    },
    {
     "name": "stderr",
     "output_type": "stream",
     "text": [
      "\n"
     ]
    },
    {
     "name": "stdout",
     "output_type": "stream",
     "text": [
      "\n",
      "      Epoch    GPU_mem   box_loss   cls_loss   dfl_loss  Instances       Size\n"
     ]
    },
    {
     "name": "stderr",
     "output_type": "stream",
     "text": [
      "        5/5         0G      1.335      1.939      1.391         24        640: 100%|██████████| 14/14 [05:22<00:00, 23.02s/it]\n",
      "                 Class     Images  Instances      Box(P          R      mAP50  mAP50-95): 100%|██████████| 1/1 [00:11<00:00, 11.29s/it]"
     ]
    },
    {
     "name": "stdout",
     "output_type": "stream",
     "text": [
      "                   all         21         26      0.461      0.564      0.621      0.412\n"
     ]
    },
    {
     "name": "stderr",
     "output_type": "stream",
     "text": [
      "\n"
     ]
    },
    {
     "name": "stdout",
     "output_type": "stream",
     "text": [
      "\n",
      "5 epochs completed in 0.496 hours.\n",
      "Optimizer stripped from D:\\PROJECTS\\Python\\Face Login using OpenCV\\train3\\weights\\last.pt, 6.2MB\n",
      "Optimizer stripped from D:\\PROJECTS\\Python\\Face Login using OpenCV\\train3\\weights\\best.pt, 6.2MB\n",
      "\n",
      "Validating D:\\PROJECTS\\Python\\Face Login using OpenCV\\train3\\weights\\best.pt...\n",
      "Ultralytics YOLOv8.2.8  Python-3.12.3 torch-2.3.0+cpu CPU (12th Gen Intel Core(TM) i5-12450H)\n",
      "Model summary (fused): 168 layers, 3006233 parameters, 0 gradients, 8.1 GFLOPs\n"
     ]
    },
    {
     "name": "stderr",
     "output_type": "stream",
     "text": [
      "                 Class     Images  Instances      Box(P          R      mAP50  mAP50-95): 100%|██████████| 1/1 [00:09<00:00,  9.52s/it]\n"
     ]
    },
    {
     "name": "stdout",
     "output_type": "stream",
     "text": [
      "                   all         21         26      0.463      0.564      0.621      0.412\n",
      "                 ameer         21          6       0.35      0.167      0.466      0.325\n",
      "                 badri         21         13      0.716      0.774      0.837       0.49\n",
      "               krishna         21          7      0.323      0.752       0.56      0.422\n",
      "Speed: 4.3ms preprocess, 412.7ms inference, 0.0ms loss, 18.0ms postprocess per image\n",
      "Results saved to \u001b[1mD:\\PROJECTS\\Python\\Face Login using OpenCV\\train3\u001b[0m\n"
     ]
    }
   ],
   "source": [
    "from ultralytics import YOLO\n",
    "import os  # Import the os module\n",
    "\n",
    "# Get the directory where the code is executed\n",
    "current_dir = os.getcwd()\n",
    "\n",
    "# Load a model\n",
    "model = YOLO(\"yolov8n.pt\")  # Load the YOLOv8n model\n",
    "\n",
    "# Use the model\n",
    "train_result = model.train(data=\"config.yaml\", epochs=5, project=r\"results\")  # Train the model and save results to the specified directory\n"
   ]
  },
  {
   "cell_type": "markdown",
   "metadata": {},
   "source": [
    "# Validation"
   ]
  },
  {
   "cell_type": "code",
   "execution_count": 30,
   "metadata": {},
   "outputs": [
    {
     "name": "stdout",
     "output_type": "stream",
     "text": [
      "Ultralytics YOLOv8.2.8  Python-3.12.3 torch-2.3.0+cpu CPU (12th Gen Intel Core(TM) i5-12450H)\n",
      "Model summary (fused): 168 layers, 3006233 parameters, 0 gradients, 8.1 GFLOPs\n"
     ]
    },
    {
     "name": "stderr",
     "output_type": "stream",
     "text": [
      "\u001b[34m\u001b[1mval: \u001b[0mScanning D:\\PROJECTS\\Python\\Face Login using OpenCV\\data\\known\\valid\\labels.cache... 21 images, 0 backgrounds, 0 corrupt: 100%|██████████| 21/21\u001b[0m\n",
      "                 Class     Images  Instances      Box(P          R      mAP50  mAP50-95): 100%|██████████| 2/2 [00:05<00:00,  2.88s/it]\n"
     ]
    },
    {
     "name": "stdout",
     "output_type": "stream",
     "text": [
      "                   all         21         26      0.463      0.564      0.621      0.412\n",
      "                 ameer         21          6       0.35      0.167      0.466      0.325\n",
      "                 badri         21         13      0.716      0.774      0.837       0.49\n",
      "               krishna         21          7      0.323      0.752       0.56      0.422\n",
      "Speed: 7.8ms preprocess, 240.7ms inference, 0.0ms loss, 11.9ms postprocess per image\n",
      "Results saved to \u001b[1mresults\\val3\u001b[0m\n"
     ]
    }
   ],
   "source": [
    "from ultralytics import YOLO\n",
    "\n",
    "model = YOLO(r'results/train/weights/best.pt')\n",
    "# model.train(data='config.yaml', epochs=1)\n",
    "\n",
    "# # Evaluate the model's performance on the validation set and save the results to a specific location\n",
    "# save_dir = r\"D:\\PROJECTS\\Python\\Face Login using OpenCV\\runs\\detect\\val\"\n",
    "\n",
    "# Get the directory where the code is executed\n",
    "current_dir = os.getcwd()\n",
    "\n",
    "# Evaluate the model's performance on the validation set\n",
    "validation_results = model.val(data='config.yaml',project=r\"results\")"
   ]
  },
  {
   "cell_type": "markdown",
   "metadata": {
    "editable": true,
    "slideshow": {
     "slide_type": ""
    },
    "tags": []
   },
   "source": [
    "# Prediction or Testing"
   ]
  },
  {
   "cell_type": "code",
   "execution_count": null,
   "metadata": {
    "editable": true,
    "jupyter": {
     "source_hidden": true
    },
    "slideshow": {
     "slide_type": ""
    },
    "tags": []
   },
   "outputs": [],
   "source": [
    "from ultralytics import YOLO\n",
    "from PIL import Image\n",
    "import cv2\n",
    "import IPython.display as display\n",
    "\n",
    "model = YOLO(r'results/train/weights/best.pt')\n",
    "\n",
    "# Get the directory where the code is executed\n",
    "current_dir = os.getcwd()\n",
    "\n",
    "# accepts all formats - image/dir/Path/URL/video/PIL/ndarray. 0 for webcam\n",
    "# results = model.predict(source=\"0\", show=True) #webcam\n",
    "\n",
    "\n",
    "# results = model.predict(source=\"0\")\n",
    "# results = model.predict(source=\"folder\", show=True) # Display preds. Accepts all YOLO predict arguments\n",
    "\n",
    "\n",
    "#----one image\n",
    "one_results = model.predict(source=\"abc.jpg\", save=True,imgsz=320, conf=0.5,project= current_dir)  # save plotted images\n",
    "# print(one_results)\n",
    "\n",
    "# Get the predicted image\n",
    "# predicted_image = Image.open(r\"D:\\PROJECTS\\Python\\Object Detection Project\\runs\\detect\\predict\\abc.jpg\")\n",
    "\n",
    "predicted_image = Image.open(r\"predict2\\abc.jpg\")\n",
    "    \n",
    "# Display the predicted image\n",
    "display.display(predicted_image)\n",
    "\n",
    "# #----two images\n",
    "# # from PIL\n",
    "# im1 = Image.open(\"image3.jpg\")\n",
    "# results = model.predict(source=im1, save=True,imgsz=320, conf=0.5)  # save plotted images\n",
    "\n",
    "# # from ndarray\n",
    "# im2 = cv2.imread(\"image3.jpg\")\n",
    "# results = model.predict(source=im2, save=True, save_txt=True)  # save predictions as labels\n",
    "\n",
    "# # from list of PIL/ndarray\n",
    "# two_results = model.predict(source=[im1, im2])\n"
   ]
  },
  {
   "cell_type": "code",
   "execution_count": 36,
   "metadata": {
    "collapsed": true,
    "editable": true,
    "jupyter": {
     "outputs_hidden": true
    },
    "slideshow": {
     "slide_type": ""
    },
    "tags": []
   },
   "outputs": [
    {
     "name": "stdout",
     "output_type": "stream",
     "text": [
      "\n",
      "image 1/10 D:\\PROJECTS\\Python\\Face Login using OpenCV\\data\\known\\test\\images\\13_jpg.rf.1a42c17b775671d7d4f37c55d2048762.jpg: 640x640 (no detections), 81.1ms\n",
      "image 2/10 D:\\PROJECTS\\Python\\Face Login using OpenCV\\data\\known\\test\\images\\19_jpg.rf.84eea5856e4acd2d194ccde9306ca281.jpg: 640x640 (no detections), 68.1ms\n",
      "image 3/10 D:\\PROJECTS\\Python\\Face Login using OpenCV\\data\\known\\test\\images\\1_jpg.rf.f7e82be05794d9ac1f8c38532bb25694.jpg: 640x640 (no detections), 67.4ms\n",
      "image 4/10 D:\\PROJECTS\\Python\\Face Login using OpenCV\\data\\known\\test\\images\\1d180dda-c90c-49b1-9b5e-090b2c00d84d_jpg.rf.460151a730e89c6cbe68c2db89abad46.jpg: 640x640 (no detections), 86.3ms\n",
      "image 5/10 D:\\PROJECTS\\Python\\Face Login using OpenCV\\data\\known\\test\\images\\28_jpg.rf.86e877d7704c93f154b19c659cd5300c.jpg: 640x640 (no detections), 67.1ms\n",
      "image 6/10 D:\\PROJECTS\\Python\\Face Login using OpenCV\\data\\known\\test\\images\\faces-2-_jpeg.rf.c1f14a9526596dc6b88233fe99d22225.jpg: 640x640 (no detections), 74.6ms\n",
      "image 7/10 D:\\PROJECTS\\Python\\Face Login using OpenCV\\data\\known\\test\\images\\faces-23-_jpeg.rf.7f2fbdb6efee63176ae109bcb65b57fc.jpg: 640x640 (no detections), 73.8ms\n",
      "image 8/10 D:\\PROJECTS\\Python\\Face Login using OpenCV\\data\\known\\test\\images\\faces-25-_jpeg.rf.4c0a44514760b27c43b94c6f01448434.jpg: 640x640 (no detections), 71.9ms\n",
      "image 9/10 D:\\PROJECTS\\Python\\Face Login using OpenCV\\data\\known\\test\\images\\faces-36-_jpg.rf.01386f67428db243184e3e05bea4c59c.jpg: 640x640 (no detections), 73.1ms\n",
      "image 10/10 D:\\PROJECTS\\Python\\Face Login using OpenCV\\data\\known\\test\\images\\faces-4-_jpeg.rf.e7f793747084d8d8d59343e53c09013f.jpg: 640x640 (no detections), 70.0ms\n",
      "Speed: 1.6ms preprocess, 73.3ms inference, 1.8ms postprocess per image at shape (1, 3, 640, 640)\n",
      "Results saved to \u001b[1mresults\\predict2\u001b[0m\n"
     ]
    }
   ],
   "source": [
    "#Prediction on test images\n",
    "from ultralytics import YOLO\n",
    "import IPython.display as display\n",
    "\n",
    "model = YOLO(r'results/train/weights/best.pt')\n",
    "\n",
    "one_results = model.predict(source=r\"data/known/test/images\", save=True,imgsz=640, conf=0.25,project= r\"results\") \n",
    "\n",
    "# predicted_image = Image.open(r\"predict4\\def.jpg\")\n",
    "    \n",
    "# # Display the predicted image\n",
    "# display.display(predicted_image)"
   ]
  },
  {
   "cell_type": "code",
   "execution_count": 35,
   "metadata": {
    "editable": true,
    "slideshow": {
     "slide_type": ""
    },
    "tags": []
   },
   "outputs": [],
   "source": [
    "# !yolo task=detect mode=predict model={current_dir}/train/weights/best.pt conf=0.25 source={current_dir}/data/known/test/images save=True\n"
   ]
  },
  {
   "cell_type": "code",
   "execution_count": 12,
   "metadata": {
    "jupyter": {
     "source_hidden": true
    }
   },
   "outputs": [],
   "source": [
    "#showing prediction on test images\n",
    "import glob\n",
    "from IPython.display import Image, display\n",
    "\n",
    "for image_path in glob.glob(f'{current_dir}/predict/*.jpg')[:3]:\n",
    "      display(Image(filename=image_path, width=640))\n",
    "      print(\"\\n\")"
   ]
  },
  {
   "cell_type": "markdown",
   "metadata": {},
   "source": [
    "# Use Interface"
   ]
  },
  {
   "cell_type": "code",
   "execution_count": 40,
   "metadata": {},
   "outputs": [
    {
     "data": {
      "application/vnd.jupyter.widget-view+json": {
       "model_id": "50dcb26409fc48a0af1dc7981fc8c00b",
       "version_major": 2,
       "version_minor": 0
      },
      "text/plain": [
       "VBox(children=(HTML(value='<h3>Welcome to Login Panel</h3>'), HBox(children=(Label(value='Username:'), Text(va…"
      ]
     },
     "metadata": {},
     "output_type": "display_data"
    },
    {
     "data": {
      "application/vnd.jupyter.widget-view+json": {
       "model_id": "b784b10632ac4ab3af6d2442fa575e5d",
       "version_major": 2,
       "version_minor": 0
      },
      "text/plain": [
       "VBox(children=(Tab(children=(VBox(children=(HTML(value=\"<h2><span style='font-size: 24px;'>&#x1F64F;</span> We…"
      ]
     },
     "metadata": {},
     "output_type": "display_data"
    }
   ],
   "source": [
    "import ipywidgets as widgets\n",
    "from IPython.display import display, clear_output, Image, HTML, Javascript\n",
    "import cv2\n",
    "import matplotlib.pyplot as plt\n",
    "import io\n",
    "import base64\n",
    "import time\n",
    "import os\n",
    "import face_recognition\n",
    "import dlib\n",
    "import webbrowser\n",
    "import subprocess\n",
    "from ultralytics import YOLO\n",
    "\n",
    "\n",
    "# HOME SECTION--------------------------------\n",
    "# Create label for Home\n",
    "home_label = widgets.HTML(value=\"<h2><span style='font-size: 24px;'>&#x1F64F;</span> Welcome to Home Section!!! <span style='font-size: 24px;'>&#x1F64F;</span></h2>\")\n",
    "\n",
    "                          \n",
    "# Define a container for the logout button\n",
    "home_content = widgets.VBox([home_label])\n",
    "\n",
    "\n",
    "\n",
    "# LOGOUT SECTION--------------------------------\n",
    "# Create label for Logout\n",
    "logout_label = widgets.HTML(value=\"<h2><span style='font-size: 24px;'>&#x1F44B;</span> See You Again!!! <span style='font-size: 24px;'>&#x1F44B;</span></h2>\")\n",
    "\n",
    "# Create button to logout\n",
    "logout_button = widgets.Button(\n",
    "    description=\"Logout\",\n",
    "    button_style='danger',\n",
    "    tooltip='Logout',\n",
    "    icon='sign-out' # (FontAwesome names without the `fa-` prefix)\n",
    ")\n",
    "\n",
    "# Function to logout\n",
    "def logout_function(b):\n",
    "    \n",
    "    # Clear username and password text boxes\n",
    "    username_textbox.value = ''\n",
    "    password_textbox.value = ''\n",
    "    \n",
    " \n",
    "    # Clear login status output\n",
    "    with login_status_output:\n",
    "        clear_output()\n",
    "\n",
    "    # Show the login tab and hide other tabs\n",
    "    login_ui.layout.display = 'block'\n",
    "    tabs_container.layout.display = 'none'\n",
    "\n",
    "    # Show the image tab and hide other tabs\n",
    "    tabs_container.selected_index = 0  # Index of the first tab in the tabs container\n",
    "    \n",
    "# Attach event handlers to the buttons\n",
    "logout_button.on_click(logout_function)\n",
    "\n",
    "# Define a container for the logout button\n",
    "logout_content = widgets.VBox([logout_label,logout_button])\n",
    "\n",
    "\n",
    "# Function to authenticate login++++++++++++++++++++++++++++++++\n",
    "def authenticate_login(username, password):\n",
    "    # Replace this with your actual login authentication logic\n",
    "    if username == \"admin\" and password == \"admin\":\n",
    "        return True\n",
    "    else:\n",
    "        return False\n",
    "\n",
    "# Username and password text boxes\n",
    "username_textbox = widgets.Text(placeholder=\"Enter username\")\n",
    "password_textbox = widgets.Password(placeholder=\"Enter password\")\n",
    "\n",
    "# Login button\n",
    "login_button = widgets.Button(description=\"Login\", button_style=\"success\")\n",
    "\n",
    "# Output widget for displaying login status\n",
    "login_status_output = widgets.Output()\n",
    "\n",
    "# Function to handle login button click\n",
    "def handle_login_button_click(b):\n",
    "    with login_status_output:\n",
    "        clear_output()\n",
    "        username = username_textbox.value.strip()\n",
    "        password = password_textbox.value.strip()\n",
    "        \n",
    "        if authenticate_login(username, password):\n",
    "            print(\"Login successful! 😀\")\n",
    "            time.sleep(3)\n",
    "           \n",
    "            # Show other tabs and hide the login tab \n",
    "            login_ui.layout.display = 'none'\n",
    "            tabs_container.layout.display = 'block'\n",
    "\n",
    "            # Show the image tab and hide other tabs\n",
    "            tabs_container.selected_index = 0  # Index of the first tab in the tabs container\n",
    "            \n",
    "        else:\n",
    "            print(\"Invalid username or password. Please try again.\")\n",
    "\n",
    "# Attach event handler to the login button\n",
    "login_button.on_click(handle_login_button_click)\n",
    "\n",
    "\n",
    "# FACE Login *****************\n",
    "\n",
    "#without YOLO\n",
    "# def handle_face_login_button_click(b):\n",
    "    \n",
    "#     # Load Camera\n",
    "#     cap = cv2.VideoCapture(0)  # Use 0 for default webcam, or adjust as needed\n",
    "    \n",
    "#     start_time = None\n",
    "#     login_successful = False\n",
    "#     welcome_displayed = False\n",
    "#     welcome_start_time = None\n",
    "\n",
    "#     # Function to load encodings from a folder\n",
    "#     def load_encodings_from_folder(folder_path):\n",
    "#         encodings = {}\n",
    "#         for filename in os.listdir(folder_path):\n",
    "#             name, ext = os.path.splitext(filename)\n",
    "#             if ext.lower() in ['.jpg', '.png', '.jpeg']:\n",
    "#                 image_path = os.path.join(folder_path, filename)\n",
    "#                 img = cv2.imread(image_path)\n",
    "#                 face_encodings = face_recognition.face_encodings(img)\n",
    "#                 if face_encodings:\n",
    "#                     encodings[name] = face_encodings[0]  # Assuming only one face per image\n",
    "#         return encodings\n",
    "    \n",
    "#     # Load known face encodings (you need to prepare this in advance)\n",
    "#     known_encodings = load_encodings_from_folder(\"images/known/\")\n",
    "    \n",
    "#     # Initialize face detector and predictor\n",
    "#     detector = dlib.get_frontal_face_detector()\n",
    "\n",
    "#     while True:\n",
    "#         ret, frame = cap.read()\n",
    "    \n",
    "#         # Convert frame to grayscale for face detection\n",
    "#         gray = cv2.cvtColor(frame, cv2.COLOR_BGR2GRAY)\n",
    "    \n",
    "#         # Detect faces in the frame\n",
    "#         faces = detector(gray)\n",
    "    \n",
    "#         # List to store matching names\n",
    "#         matching_names = []\n",
    "#         found_name = \"Unknown\"\n",
    "    \n",
    "#         # First scan all faces\n",
    "#         for face in faces:\n",
    "#             # Get the face coordinates\n",
    "#             x1, y1, x2, y2 = face.left(), face.top(), face.right(), face.bottom()\n",
    "    \n",
    "#             # Crop the face from the frame\n",
    "#             face_img = frame[y1:y2, x1:x2]\n",
    "    \n",
    "#             # Check if the face image is not empty\n",
    "#             if not face_img.size:\n",
    "#                 continue  # Skip this face if the image is empty\n",
    "    \n",
    "#             # Resize face image to a fixed size for face recognition (e.g., 128x128)\n",
    "#             face_img_resized = cv2.resize(face_img, (128, 128))\n",
    "    \n",
    "#             # Encode the face using dlib's face recognition model\n",
    "#             face_encodings = face_recognition.face_encodings(face_img_resized)\n",
    "            \n",
    "#             if face_encodings:\n",
    "#                 # Perform face matching with known encodings\n",
    "#                 for name, known_encoding in known_encodings.items():\n",
    "#                     # Compare face encodings\n",
    "#                     match = face_recognition.compare_faces([known_encoding], face_encodings[0])\n",
    "#                     if match[0]:\n",
    "#                         found_name = name\n",
    "#                         break\n",
    "    \n",
    "#                 # Draw rectangle and label on the frame\n",
    "#                 cv2.rectangle(frame, (x1, y1), (x2, y2), (0, 255, 0), 2)\n",
    "#                 cv2.putText(frame, found_name, (x1, y1 - 10), cv2.FONT_HERSHEY_SIMPLEX, 0.8, (0, 255, 0), 2)\n",
    "    \n",
    "#         # After scanning, proceed if there is a matching face and only one face in the frame\n",
    "#         if len(faces) == 1 and found_name != \"Unknown\":\n",
    "#             if start_time is None:\n",
    "#                 start_time = time.time()\n",
    "#             elif time.time() - start_time >= 3:  # Show \"Login Successful\" after 3 seconds\n",
    "#                 login_successful = True\n",
    "#         else:\n",
    "#             # Reset start time if multiple faces detected or no matching face found\n",
    "#             start_time = None\n",
    "#             login_successful = False\n",
    "    \n",
    "#         # Display \"Login Successful\" message after 3 seconds and redirect to website if conditions are met\n",
    "#         if login_successful and not welcome_displayed:\n",
    "#             cv2.putText(frame, \"Login Successful!!!\", (50, 50), cv2.FONT_HERSHEY_SIMPLEX, 1, (0, 255, 0), 2)\n",
    "#             if time.time() - start_time >= 10: #show welcome message\n",
    "#                 welcome_displayed = True\n",
    "#                 welcome_start_time = time.time()\n",
    "#         if welcome_displayed:\n",
    "#             # Display \"Welcome\" message for 5 seconds\n",
    "#             cv2.putText(frame, f\"Welcome, {found_name}!\", (50, 100), cv2.FONT_HERSHEY_SIMPLEX, 1, (0, 255, 0), 2)\n",
    "#             if time.time() - welcome_start_time >= 5:\n",
    "#                 # Show other tabs and hide the login tab \n",
    "#                 login_ui.layout.display = 'none'\n",
    "#                 tabs_container.layout.display = 'block'\n",
    "#                 break\n",
    "    \n",
    "#         # Display the frame\n",
    "#         cv2.imshow(\"Face Login through Webcam\", frame)\n",
    "    \n",
    "#         # Break the loop on pressing 'q'\n",
    "#         if cv2.waitKey(1) & 0xFF == ord('q'):\n",
    "#             break\n",
    "    \n",
    "#     # Release the video capture object and destroy windows\n",
    "#     cap.release()\n",
    "#     cv2.destroyAllWindows()\n",
    "\n",
    "train_folder = \"data/known/train/images/\"\n",
    "val_folder = \"data/known/valid/images/\"\n",
    "test_folder = \"data/known/test/images/\"\n",
    "classes = [\"ameer\", \"badri\", \"krishna\"]\n",
    "\n",
    "def load_encodings_from_folders(train_folder, val_folder, test_folder, classes):\n",
    "    encodings = {class_name: {} for class_name in classes}\n",
    "    \n",
    "    # Load encodings from train folder\n",
    "    for class_name in classes:\n",
    "        class_train_folder = os.path.join(train_folder, class_name)\n",
    "        class_train_encodings = load_encodings_from_folder(class_train_folder)\n",
    "        encodings[class_name].update(class_train_encodings)\n",
    "    \n",
    "    # Load encodings from val folder\n",
    "    for class_name in classes:\n",
    "        class_val_folder = os.path.join(val_folder, class_name)\n",
    "        class_val_encodings = load_encodings_from_folder(class_val_folder)\n",
    "        encodings[class_name].update(class_val_encodings)\n",
    "    \n",
    "    # Load encodings from test folder\n",
    "    for class_name in classes:\n",
    "        class_test_folder = os.path.join(test_folder, class_name)\n",
    "        class_test_encodings = load_encodings_from_folder(class_test_folder)\n",
    "        encodings[class_name].update(class_test_encodings)\n",
    "    \n",
    "    return encodings\n",
    "\n",
    "def load_encodings_from_folder(folder_path):\n",
    "    encodings = {}\n",
    "    for filename in os.listdir(folder_path):\n",
    "        name, ext = os.path.splitext(filename)\n",
    "        if ext.lower() in ['.jpg', '.png', '.jpeg']:\n",
    "            image_path = os.path.join(folder_path, filename)\n",
    "            img = cv2.imread(image_path)\n",
    "            face_encodings = face_recognition.face_encodings(img)\n",
    "            if face_encodings:\n",
    "                encodings[name] = face_encodings[0]  # Assuming only one face per image\n",
    "    return encodings\n",
    "\n",
    "def handle_face_login_button_click(b):\n",
    "    # Load YOLOv8 model for face detection\n",
    "    yolo_model = YOLO(r'results/train/weights/best.pt')\n",
    "\n",
    "    # Load Camera\n",
    "    cap = cv2.VideoCapture(0)  # Use 0 for default webcam, or adjust as needed\n",
    "    \n",
    "    start_time = None\n",
    "    login_successful = False\n",
    "    welcome_displayed = False\n",
    "    welcome_start_time = None\n",
    "\n",
    "    # Load known face encodings (you need to prepare this in advance)\n",
    "    known_encodings = load_encodings_from_folders(train_folder, val_folder, test_folder, classes)\n",
    "    \n",
    "    # Initialize face detector and predictor\n",
    "    detector = dlib.get_frontal_face_detector()\n",
    "\n",
    "    while True:\n",
    "        ret, frame = cap.read()\n",
    "    \n",
    "        # Use YOLOv8 for face detection\n",
    "        detections = yolo_model(frame)\n",
    "        detected_faces = detections.pred\n",
    "        \n",
    "        # List to store matching names\n",
    "        matching_names = []\n",
    "        found_name = \"Unknown\"\n",
    "    \n",
    "        # First scan all faces\n",
    "        for detection in detected_faces:\n",
    "            # Get the bounding box coordinates\n",
    "            x1, y1, x2, y2 = detection.xyxy[0]\n",
    "    \n",
    "            # Crop the detected face from the frame\n",
    "            face_img = frame[y1:y2, x1:x2]\n",
    "    \n",
    "            # Check if the face image is not empty\n",
    "            if not face_img.size:\n",
    "                continue  # Skip this face if the image is empty\n",
    "    \n",
    "            # Encode the face using dlib's face recognition model\n",
    "            face_encodings = face_recognition.face_encodings(face_img)\n",
    "            \n",
    "            if face_encodings:\n",
    "                # Perform face matching with known encodings\n",
    "                for class_name, class_encodings in known_encodings.items():\n",
    "                    for name, known_encoding in class_encodings.items():\n",
    "                        # Compare face encodings\n",
    "                        match = face_recognition.compare_faces([known_encoding], face_encodings[0])\n",
    "                        if match[0]:\n",
    "                            found_name = name\n",
    "                            break\n",
    "                    if found_name != \"Unknown\":\n",
    "                        break\n",
    "    \n",
    "                # Draw rectangle and label on the frame\n",
    "                cv2.rectangle(frame, (x1, y1), (x2, y2), (0, 255, 0), 2)\n",
    "                cv2.putText(frame, found_name, (x1, y1 - 10), cv2.FONT_HERSHEY_SIMPLEX, 0.8, (0, 255, 0), 2)\n",
    "    \n",
    "        # After scanning, proceed if there is a matching face and only one face in the frame\n",
    "        if len(detected_faces) == 1 and found_name != \"Unknown\":\n",
    "            if start_time is None:\n",
    "                start_time = time.time()\n",
    "            elif time.time() - start_time >= 3:  # Show \"Login Successful\" after 3 seconds\n",
    "                login_successful = True\n",
    "        else:\n",
    "            # Reset start time if multiple faces detected or no matching face found\n",
    "            start_time = None\n",
    "            login_successful = False\n",
    "    \n",
    "        # Display \"Login Successful\" message after 3 seconds and redirect to website if conditions are met\n",
    "        if login_successful and not welcome_displayed:\n",
    "            cv2.putText(frame, \"Login Successful!!!\", (50, 50), cv2.FONT_HERSHEY_SIMPLEX, 1, (0, 255, 0), 2)\n",
    "            if time.time() - start_time >= 10: #show welcome message\n",
    "                welcome_displayed = True\n",
    "                welcome_start_time = time.time()\n",
    "        if welcome_displayed:\n",
    "            # Display \"Welcome\" message for 5 seconds\n",
    "            cv2.putText(frame, f\"Welcome, {found_name}!\", (50, 100), cv2.FONT_HERSHEY_SIMPLEX, 1, (0, 255, 0), 2)\n",
    "            if time.time() - welcome_start_time >= 5:\n",
    "                # Show other tabs and hide the login tab \n",
    "                login_ui.layout.display = 'none'\n",
    "                tabs_container.layout.display = 'block'\n",
    "                break\n",
    "    \n",
    "        # Display the frame\n",
    "        cv2.imshow(\"Face Login through Webcam\", frame)\n",
    "    \n",
    "        # Break the loop on pressing 'q'\n",
    "        if cv2.waitKey(1) & 0xFF == ord('q'):\n",
    "            break\n",
    "    \n",
    "    # Release the video capture object and destroy windows\n",
    "    cap.release()\n",
    "    cv2.destroyAllWindows()\n",
    "\n",
    "\n",
    "\n",
    "face_login_button = widgets.Button(description=\"\", button_style=\"primary\", icon=\"fingerprint\")\n",
    "face_login_button.layout.width = '50px'\n",
    "face_login_button.layout.height = '28px'\n",
    "\n",
    "# Attach event handler to the FACE login button\n",
    "face_login_button.on_click(handle_face_login_button_click)\n",
    "\n",
    "\n",
    "# Arrange widgets in a VBox layout\n",
    "login_ui = widgets.VBox([\n",
    "    widgets.HTML(value=\"<h3>Welcome to Login Panel</h3>\"),\n",
    "    widgets.HBox([widgets.Label(value=\"Username:\"), username_textbox]),\n",
    "    widgets.HBox([widgets.Label(value=\"Password :\"), password_textbox]),\n",
    "    widgets.HBox([login_button,face_login_button]),\n",
    "    login_status_output\n",
    "])\n",
    "\n",
    "\n",
    "# Create tabs for image, video, and webcam-------------------+++++++++++++\n",
    "tab_contents = ['Home','Logout']\n",
    "tabs = widgets.Tab()\n",
    "tabs.children = [home_content,logout_content]\n",
    "for i, tab_name in enumerate(tab_contents):\n",
    "    tabs.set_title(i, tab_name)\n",
    "\n",
    "\n",
    "# Set height of the entire tab widget\n",
    "tabs_container = widgets.VBox([tabs], layout={'height': '1000px'})\n",
    "\n",
    "# Display the login UI\n",
    "display(login_ui)\n",
    "\n",
    "# Display the tabs\n",
    "display(tabs_container)\n",
    "\n",
    "# Initially, only show the login tab\n",
    "tabs_container.layout.display = 'none'"
   ]
  },
  {
   "cell_type": "code",
   "execution_count": null,
   "metadata": {},
   "outputs": [],
   "source": []
  }
 ],
 "metadata": {
  "kernelspec": {
   "display_name": "Python 3 (ipykernel)",
   "language": "python",
   "name": "python3"
  },
  "language_info": {
   "codemirror_mode": {
    "name": "ipython",
    "version": 3
   },
   "file_extension": ".py",
   "mimetype": "text/x-python",
   "name": "python",
   "nbconvert_exporter": "python",
   "pygments_lexer": "ipython3",
   "version": "3.12.3"
  }
 },
 "nbformat": 4,
 "nbformat_minor": 4
}
